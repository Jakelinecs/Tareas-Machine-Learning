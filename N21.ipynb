{
  "nbformat": 4,
  "nbformat_minor": 0,
  "metadata": {
    "colab": {
      "provenance": [],
      "authorship_tag": "ABX9TyN+LDnhFNZqGZd8MF4wG1JR",
      "include_colab_link": true
    },
    "kernelspec": {
      "name": "python3",
      "display_name": "Python 3"
    },
    "language_info": {
      "name": "python"
    }
  },
  "cells": [
    {
      "cell_type": "markdown",
      "metadata": {
        "id": "view-in-github",
        "colab_type": "text"
      },
      "source": [
        "<a href=\"https://colab.research.google.com/github/Jakelinecs/Tareas-Machine-Learning/blob/main/N21.ipynb\" target=\"_parent\"><img src=\"https://colab.research.google.com/assets/colab-badge.svg\" alt=\"Open In Colab\"/></a>"
      ]
    },
    {
      "cell_type": "code",
      "execution_count": 6,
      "metadata": {
        "id": "1HwU5GLhS63v"
      },
      "outputs": [],
      "source": [
        "import pandas as pd\n",
        "import numpy as np\n",
        "from sklearn.model_selection import train_test_split\n",
        "from sklearn.preprocessing import StandardScaler\n",
        "from sklearn.metrics import mean_squared_error\n",
        "\n",
        "try:\n",
        "    df = pd.read_csv('train.csv')\n",
        "except FileNotFoundError:\n",
        "    print(\"train.csvが見つかりません。ファイルをダウンロードしてください。\")\n",
        "    df = pd.DataFrame({\n",
        "        'SalePrice': np.random.rand(100) * 100000 + 150000,\n",
        "        'GrLivArea': np.random.rand(100) * 1500 + 1000,\n",
        "        'YearBuilt': np.random.randint(1900, 2010, 100)\n",
        "    })\n",
        "\n",
        "X = df[['GrLivArea', 'YearBuilt']].values\n",
        "y = df['SalePrice'].values\n",
        "\n",
        "scaler = StandardScaler()\n",
        "X_scaled = scaler.fit_transform(X)\n",
        "\n",
        "X_train, X_val, y_train, y_val = train_test_split(\n",
        "    X_scaled, y, test_size=0.2, random_state=42\n",
        ")"
      ]
    },
    {
      "cell_type": "code",
      "source": [
        "from sklearn.linear_model import LinearRegression\n",
        "from sklearn.svm import SVR\n",
        "from sklearn.tree import DecisionTreeRegressor\n",
        "\n",
        "lr = LinearRegression()\n",
        "svr = SVR(kernel='rbf')\n",
        "dt = DecisionTreeRegressor(max_depth=5, random_state=42)"
      ],
      "metadata": {
        "id": "2dMzVtpMUNpC"
      },
      "execution_count": 7,
      "outputs": []
    },
    {
      "cell_type": "code",
      "source": [
        "lr.fit(X_train, y_train)\n",
        "svr.fit(X_train, y_train)\n",
        "dt.fit(X_train, y_train)\n",
        "\n",
        "pred_lr = lr.predict(X_val)\n",
        "pred_svr = svr.predict(X_val)\n",
        "pred_dt = dt.predict(X_val)\n",
        "\n",
        "pred_blend = (pred_lr + pred_svr + pred_dt) / 3\n",
        "\n",
        "mse_lr = mean_squared_error(y_val, pred_lr)\n",
        "mse_blend = mean_squared_error(y_val, pred_blend)\n",
        "\n",
        "print(f\"MSE (Linear Regression): {mse_lr:.2f}\")\n",
        "print(f\"MSE (Blended Average):   {mse_blend:.2f}\")"
      ],
      "metadata": {
        "colab": {
          "base_uri": "https://localhost:8080/"
        },
        "id": "vJ4-6zhGUNkn",
        "outputId": "3bb14cab-aad9-49a8-e35f-3cc8ffac7fad"
      },
      "execution_count": 8,
      "outputs": [
        {
          "output_type": "stream",
          "name": "stdout",
          "text": [
            "MSE (Linear Regression): 2495554898.67\n",
            "MSE (Blended Average):   2820579658.44\n"
          ]
        }
      ]
    },
    {
      "cell_type": "code",
      "source": [
        "from sklearn.utils import resample\n",
        "\n",
        "n_estimators = 5\n",
        "base_estimator = DecisionTreeRegressor(max_depth=5, random_state=42)\n",
        "\n",
        "predictions = []\n",
        "\n",
        "for i in range(n_estimators):\n",
        "    X_sample, y_sample = resample(X_train, y_train, random_state=i)\n",
        "\n",
        "    estimator = base_estimator.__class__(**base_estimator.get_params())\n",
        "    estimator.fit(X_sample, y_sample)\n",
        "\n",
        "    pred_i = estimator.predict(X_val)\n",
        "    predictions.append(pred_i)\n",
        "\n",
        "pred_bagging = np.mean(predictions, axis=0)\n",
        "\n",
        "mse_bagging = mean_squared_error(y_val, pred_bagging)\n",
        "print(f\"MSE (Bagging - Scratch Style): {mse_bagging:.2f}\")"
      ],
      "metadata": {
        "colab": {
          "base_uri": "https://localhost:8080/"
        },
        "id": "Jxr4WAXYUNf3",
        "outputId": "38a4aa81-24ec-42c2-da1c-14a969160df0"
      },
      "execution_count": 9,
      "outputs": [
        {
          "output_type": "stream",
          "name": "stdout",
          "text": [
            "MSE (Bagging - Scratch Style): 1673137888.68\n"
          ]
        }
      ]
    },
    {
      "cell_type": "code",
      "source": [
        "estimators = [\n",
        "    ('lr', LinearRegression()),\n",
        "    ('svr', SVR(kernel='rbf')),\n",
        "    ('dt', DecisionTreeRegressor(max_depth=5, random_state=42))\n",
        "]\n",
        "\n",
        "meta_learner = LinearRegression()\n",
        "\n",
        "stage0_predictions_train = []\n",
        "stage0_predictions_val = []\n",
        "\n",
        "for name, model in estimators:\n",
        "    model.fit(X_train, y_train)\n",
        "\n",
        "    pred_train = model.predict(X_train)\n",
        "    stage0_predictions_train.append(pred_train)\n",
        "\n",
        "    pred_val = model.predict(X_val)\n",
        "    stage0_predictions_val.append(pred_val)\n",
        "\n",
        "X_meta = np.column_stack(stage0_predictions_train)\n",
        "X_meta_val = np.column_stack(stage0_predictions_val)\n",
        "\n",
        "meta_learner.fit(X_meta, y_train)\n",
        "\n",
        "pred_stacking = meta_learner.predict(X_meta_val)\n",
        "\n",
        "mse_stacking = mean_squared_error(y_val, pred_stacking)\n",
        "print(f\"MSE (Stacking - Scratch Style): {mse_stacking:.2f}\")"
      ],
      "metadata": {
        "colab": {
          "base_uri": "https://localhost:8080/"
        },
        "id": "3c04DPfDUNbk",
        "outputId": "21a3304b-5ef5-4f43-974c-03decc5ab784"
      },
      "execution_count": 10,
      "outputs": [
        {
          "output_type": "stream",
          "name": "stdout",
          "text": [
            "MSE (Stacking - Scratch Style): 1792498145.76\n"
          ]
        }
      ]
    }
  ]
}