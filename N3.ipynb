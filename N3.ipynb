{
  "nbformat": 4,
  "nbformat_minor": 0,
  "metadata": {
    "colab": {
      "provenance": [],
      "authorship_tag": "ABX9TyPnDqq5BnYMxNRgwFni65qA",
      "include_colab_link": true
    },
    "kernelspec": {
      "name": "python3",
      "display_name": "Python 3"
    },
    "language_info": {
      "name": "python"
    }
  },
  "cells": [
    {
      "cell_type": "markdown",
      "metadata": {
        "id": "view-in-github",
        "colab_type": "text"
      },
      "source": [
        "<a href=\"https://colab.research.google.com/github/Jakelinecs/Tareas-Machine-Learning/blob/main/N3.ipynb\" target=\"_parent\"><img src=\"https://colab.research.google.com/assets/colab-badge.svg\" alt=\"Open In Colab\"/></a>"
      ]
    },
    {
      "cell_type": "code",
      "execution_count": 1,
      "metadata": {
        "colab": {
          "base_uri": "https://localhost:8080/"
        },
        "id": "RWg6o0YIHN0P",
        "outputId": "9c434866-b87b-48d6-e53c-cf88e8ab9d57"
      },
      "outputs": [
        {
          "output_type": "stream",
          "name": "stdout",
          "text": [
            "--- Problema 1: Monte Fuji ---\n",
            "Altura del Monte Fuji: 3776.0 m\n",
            "Grosor alcanzado: 5368.70912 m\n",
            "Número mínimo de pliegues necesarios: 26\n"
          ]
        }
      ],
      "source": [
        "# Problematica 1\n",
        "THICKNESS_0 = 0.00008  # Grosor inicial del papel en metros\n",
        "MT_FUJI_HEIGHT = 3776.0 # Altura del Monte Fuji en metros\n",
        "\n",
        "\n",
        "current_thickness = THICKNESS_0\n",
        "num_folds = 0\n",
        "\n",
        "\n",
        "while current_thickness < MT_FUJI_HEIGHT:\n",
        "    current_thickness *= 2\n",
        "    num_folds += 1\n",
        "\n",
        "print(\"--- Problema 1: Monte Fuji ---\")\n",
        "print(f\"Altura del Monte Fuji: {MT_FUJI_HEIGHT} m\")\n",
        "print(f\"Grosor alcanzado: {current_thickness} m\")\n",
        "print(f\"Número mínimo de pliegues necesarios: {num_folds}\")\n"
      ]
    },
    {
      "cell_type": "code",
      "source": [
        "# Problematica 2\n",
        "def calculate_minimum_folds(target_height, initial_thickness=0.00008):\n",
        "    if target_height <= 0 or initial_thickness <= 0:\n",
        "        return 0\n",
        "\n",
        "    current_thickness = initial_thickness\n",
        "    num_folds = 0\n",
        "\n",
        "    while current_thickness < target_height:\n",
        "        current_thickness *= 2\n",
        "        num_folds += 1\n",
        "\n",
        "    return num_folds\n",
        "\n",
        "THICKNESS_0 = 0.00008\n",
        "\n",
        "PROXIMA_CENTAURI_DISTANCE = 4.0175e+16\n",
        "\n",
        "folds_proxima = calculate_minimum_folds(PROXIMA_CENTAURI_DISTANCE, THICKNESS_0)\n",
        "\n",
        "print(\"\\n--- Problema 2: Función para Altura Arbitraria ---\")\n",
        "print(f\"Distancia a Próxima Centauri: {PROXIMA_CENTAURI_DISTANCE:,.2e} m\")\n",
        "print(f\"Número mínimo de pliegues para alcanzar Próxima Centauri: {folds_proxima}\")"
      ],
      "metadata": {
        "colab": {
          "base_uri": "https://localhost:8080/"
        },
        "id": "UOzp7FbvHRUP",
        "outputId": "fcdf8f2b-d24c-4076-df8b-c2109fdad3eb"
      },
      "execution_count": 3,
      "outputs": [
        {
          "output_type": "stream",
          "name": "stdout",
          "text": [
            "\n",
            "--- Problema 2: Función para Altura Arbitraria ---\n",
            "Distancia a Próxima Centauri: 4.02e+16 m\n",
            "Número mínimo de pliegues para alcanzar Próxima Centauri: 69\n"
          ]
        }
      ]
    },
    {
      "cell_type": "code",
      "source": [
        "#   Problematica 3\n",
        "import math\n",
        "\n",
        "def calculate_required_length(num_folds, initial_thickness=0.00008):\n",
        "    if num_folds <= 0:\n",
        "        return initial_thickness\n",
        "\n",
        "    two_n = 2 ** num_folds\n",
        "\n",
        "    length = (math.pi * initial_thickness / 6) * (two_n + 4) * (two_n - 1)\n",
        "\n",
        "    return length\n",
        "\n",
        "THICKNESS_0 = 0.00008\n",
        "DISTANCE_TO_MOON = 3.844e+8  # 384,400 km\n",
        "MT_FUJI_HEIGHT = 3776.0\n",
        "PROXIMA_CENTAURI_DISTANCE = 4.0175e+16\n",
        "\n",
        "folds_moon = calculate_minimum_folds(DISTANCE_TO_MOON, THICKNESS_0)\n",
        "folds_fuji = calculate_minimum_folds(MT_FUJI_HEIGHT, THICKNESS_0)\n",
        "folds_proxima = calculate_minimum_folds(PROXIMA_CENTAURI_DISTANCE, THICKNESS_0)\n",
        "\n",
        "length_moon = calculate_required_length(folds_moon, THICKNESS_0)\n",
        "length_fuji = calculate_required_length(folds_fuji, THICKNESS_0)\n",
        "length_proxima = calculate_required_length(folds_proxima, THICKNESS_0)\n",
        "\n",
        "def format_length(length_m):\n",
        "    if length_m >= 1e12:\n",
        "        return f\"{length_m / 1e12:,.2e} billones de km\"\n",
        "    elif length_m >= 1e9:\n",
        "        return f\"{length_m / 1e9:,.2f} mil millones de km\"\n",
        "    elif length_m >= 1e6:\n",
        "        return f\"{length_m / 1e6:,.2f} mil millones de metros (megámetros)\"\n",
        "    elif length_m >= 1e3:\n",
        "        return f\"{length_m / 1e3:,.2f} km\"\n",
        "    return f\"{length_m:,.2f} m\"\n",
        "\n",
        "print(\"\\n--- Problema 3: Longitud de Papel Necesaria ---\")\n",
        "\n",
        "print(f\"\\nObjetivo: Monte Fuji ({MT_FUJI_HEIGHT} m)\")\n",
        "print(f\"Pliegues necesarios: {folds_fuji}\")\n",
        "print(f\"Longitud de papel necesaria: {format_length(length_fuji)}\")\n",
        "\n",
        "print(f\"\\nObjetivo: Luna ({DISTANCE_TO_MOON:,.2e} m)\")\n",
        "print(f\"Pliegues necesarios: {folds_moon}\")\n",
        "print(f\"Longitud de papel necesaria: {format_length(length_moon)}\")\n",
        "\n",
        "print(f\"\\nObjetivo: Próxima Centauri ({PROXIMA_CENTAURI_DISTANCE:,.2e} m)\")\n",
        "print(f\"Pliegues necesarios: {folds_proxima}\")\n",
        "print(f\"Longitud de papel necesaria: {format_length(length_proxima)}\")"
      ],
      "metadata": {
        "colab": {
          "base_uri": "https://localhost:8080/"
        },
        "id": "IvyGDP7FIBCC",
        "outputId": "c0e0107c-b29c-4d34-bd5f-efb87844b34c"
      },
      "execution_count": 4,
      "outputs": [
        {
          "output_type": "stream",
          "name": "stdout",
          "text": [
            "\n",
            "--- Problema 3: Longitud de Papel Necesaria ---\n",
            "\n",
            "Objetivo: Monte Fuji (3776.0 m)\n",
            "Pliegues necesarios: 26\n",
            "Longitud de papel necesaria: 188.65 mil millones de km\n",
            "\n",
            "Objetivo: Luna (3.84e+08 m)\n",
            "Pliegues necesarios: 43\n",
            "Longitud de papel necesaria: 3.24e+09 billones de km\n",
            "\n",
            "Objetivo: Próxima Centauri (4.02e+16 m)\n",
            "Pliegues necesarios: 69\n",
            "Longitud de papel necesaria: 1.46e+25 billones de km\n"
          ]
        }
      ]
    },
    {
      "cell_type": "code",
      "source": [],
      "metadata": {
        "id": "MfTqZosRI0hY"
      },
      "execution_count": null,
      "outputs": []
    }
  ]
}