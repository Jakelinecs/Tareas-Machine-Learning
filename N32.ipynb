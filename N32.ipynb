{
  "nbformat": 4,
  "nbformat_minor": 0,
  "metadata": {
    "colab": {
      "provenance": [],
      "authorship_tag": "ABX9TyNg+VtHd052I01eL7xG0BQn",
      "include_colab_link": true
    },
    "kernelspec": {
      "name": "python3",
      "display_name": "Python 3"
    },
    "language_info": {
      "name": "python"
    }
  },
  "cells": [
    {
      "cell_type": "markdown",
      "metadata": {
        "id": "view-in-github",
        "colab_type": "text"
      },
      "source": [
        "<a href=\"https://colab.research.google.com/github/Jakelinecs/Tareas-Machine-Learning/blob/main/N32.ipynb\" target=\"_parent\"><img src=\"https://colab.research.google.com/assets/colab-badge.svg\" alt=\"Open In Colab\"/></a>"
      ]
    },
    {
      "cell_type": "code",
      "execution_count": 1,
      "metadata": {
        "colab": {
          "base_uri": "https://localhost:8080/"
        },
        "id": "kFUhfWhmOGtv",
        "outputId": "17a78e4b-c659-4e1f-b563-5ecf0cd0dc13"
      },
      "outputs": [
        {
          "output_type": "stream",
          "name": "stdout",
          "text": [
            "--- Propagación Hacia Adelante de SimpleRNN (Manual) ---\n",
            "\n",
            "Paso de Tiempo t=1: Entrada x_1 = [1.  0.5 0.  0.2]\n",
            "  Término Recurrente (h_0 * W_hh): [0. 0. 0.]\n",
            "  Término de Entrada (x_1 * W_xh): [0.5  0.67 0.84]\n",
            "  Suma (Recurrente + Entrada + Sesgo): [0.6  0.87 1.14]\n",
            "  Estado Oculto Final h_1 (tanh): [0.53704957 0.70137413 0.81441409]\n",
            "\n",
            "Paso de Tiempo t=2: Entrada x_2 = [0.8 0.1 0.4 0.6]\n",
            "  Término Recurrente (h_1 * W_hh): [ 0.49024102 -0.01747953  0.47326308]\n",
            "  Término de Entrada (x_2 * W_xh): [1.   1.19 1.38]\n",
            "  Suma (Recurrente + Entrada + Sesgo): [1.59024102 1.37252047 2.15326308]\n",
            "  Estado Oculto Final h_2 (tanh): [0.92018628 0.87926534 0.97339801]\n",
            "\n",
            "Estados Ocultos Completos (Output de la capa RNN):\n",
            "[[0.53704957 0.70137413 0.81441409]\n",
            " [0.92018628 0.87926534 0.97339801]]\n"
          ]
        }
      ],
      "source": [
        "\n",
        "import numpy as np\n",
        "\n",
        "# --- Configuración de Parámetros (Matrices Pequeñas) ---\n",
        "# Dimensión de la entrada (tamaño del vector x_t)\n",
        "INPUT_DIM = 4\n",
        "# Dimensión del estado oculto (tamaño del vector h_t)\n",
        "HIDDEN_DIM = 3\n",
        "# Longitud de la secuencia de entrada\n",
        "SEQUENCE_LEN = 2\n",
        "\n",
        "# 1. Definir Pesos y Sesgos (Manuales)\n",
        "# W_xh: pesos de entrada a estado oculto (Input_dim, Hidden_dim)\n",
        "W_xh = np.array([\n",
        "    [0.1, 0.2, 0.3],\n",
        "    [0.4, 0.5, 0.6],\n",
        "    [0.7, 0.8, 0.9],\n",
        "    [1.0, 1.1, 1.2]\n",
        "])\n",
        "\n",
        "# W_hh: pesos recurrentes (Hidden_dim, Hidden_dim)\n",
        "W_hh = np.array([\n",
        "    [0.5, -0.1, 0.3],\n",
        "    [0.2, 0.4, -0.6],\n",
        "    [0.1, -0.3, 0.9]\n",
        "])\n",
        "\n",
        "# b_h: sesgo (Hidden_dim)\n",
        "b_h = np.array([0.1, 0.2, 0.3])\n",
        "\n",
        "# 2. Definir la Entrada (Secuencia de 2 Pasos)\n",
        "# La entrada tiene forma (SEQUENCE_LEN, INPUT_DIM)\n",
        "X_sequence = np.array([\n",
        "    [1.0, 0.5, 0.0, 0.2], # x_1\n",
        "    [0.8, 0.1, 0.4, 0.6]  # x_2\n",
        "])\n",
        "\n",
        "# 3. Inicializar el Estado Oculto (h_0)\n",
        "# Se inicializa con ceros\n",
        "h_t_minus_1 = np.zeros(HIDDEN_DIM)\n",
        "\n",
        "# --- Implementación de la Propagación Hacia Adelante ---\n",
        "print(\"--- Propagación Hacia Adelante de SimpleRNN (Manual) ---\")\n",
        "\n",
        "# Almacenará los estados ocultos para cada paso de tiempo\n",
        "hidden_states = []\n",
        "\n",
        "for t in range(SEQUENCE_LEN):\n",
        "    x_t = X_sequence[t] # Entrada actual\n",
        "    print(f\"\\nPaso de Tiempo t={t+1}: Entrada x_{t+1} = {x_t}\")\n",
        "\n",
        "    # 1. Componente Recurrente (h_{t-1} * W_{hh})\n",
        "    # np.dot(Estado Oculto Anterior, Pesos Recurrentes)\n",
        "    recurrent_term = np.dot(h_t_minus_1, W_hh)\n",
        "    print(f\"  Término Recurrente (h_{t} * W_hh): {recurrent_term}\")\n",
        "\n",
        "    # 2. Componente de Entrada (x_t * W_xh)\n",
        "    # np.dot(Entrada Actual, Pesos de Entrada)\n",
        "    input_term = np.dot(x_t, W_xh)\n",
        "    print(f\"  Término de Entrada (x_{t+1} * W_xh): {input_term}\")\n",
        "\n",
        "    # 3. Cálculo de la Suma (Pre-activación)\n",
        "    pre_activation = recurrent_term + input_term + b_h\n",
        "    print(f\"  Suma (Recurrente + Entrada + Sesgo): {pre_activation}\")\n",
        "\n",
        "    # 4. Función de Activación (tanh)\n",
        "    h_t = np.tanh(pre_activation)\n",
        "    print(f\"  Estado Oculto Final h_{t+1} (tanh): {h_t}\")\n",
        "\n",
        "    # Actualizar el estado oculto para el siguiente paso\n",
        "    h_t_minus_1 = h_t\n",
        "    hidden_states.append(h_t)\n",
        "\n",
        "print(\"\\nEstados Ocultos Completos (Output de la capa RNN):\")\n",
        "print(np.array(hidden_states))"
      ]
    },
    {
      "cell_type": "code",
      "source": [],
      "metadata": {
        "id": "tk1x4Oe6vKp_"
      },
      "execution_count": null,
      "outputs": []
    }
  ]
}