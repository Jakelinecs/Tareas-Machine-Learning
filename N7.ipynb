{
  "nbformat": 4,
  "nbformat_minor": 0,
  "metadata": {
    "colab": {
      "provenance": [],
      "authorship_tag": "ABX9TyO++x99uhPTGtd57fqR1Pxd",
      "include_colab_link": true
    },
    "kernelspec": {
      "name": "python3",
      "display_name": "Python 3"
    },
    "language_info": {
      "name": "python"
    }
  },
  "cells": [
    {
      "cell_type": "markdown",
      "metadata": {
        "id": "view-in-github",
        "colab_type": "text"
      },
      "source": [
        "<a href=\"https://colab.research.google.com/github/Jakelinecs/Tareas-Machine-Learning/blob/main/N7.ipynb\" target=\"_parent\"><img src=\"https://colab.research.google.com/assets/colab-badge.svg\" alt=\"Open In Colab\"/></a>"
      ]
    },
    {
      "cell_type": "code",
      "execution_count": 6,
      "metadata": {
        "colab": {
          "base_uri": "https://localhost:8080/"
        },
        "id": "y0ksFftMRJch",
        "outputId": "b94718e9-8259-4795-e111-8412dff10e24"
      },
      "outputs": [
        {
          "output_type": "stream",
          "name": "stdout",
          "text": [
            "--- 行列積を理解しよう (NumPy) ---\n",
            "行列 A:\n",
            " [[-1  2  3]\n",
            " [ 4 -5  6]\n",
            " [ 7  8 -9]]\n",
            "\\行列 B:\n",
            " [[ 0  2  1]\n",
            " [ 0  2 -8]\n",
            " [ 2  9 -1]]\n",
            "\n",
            "Resultado (A @ B):\n",
            " [[  6  29 -20]\n",
            " [ 12  52  38]\n",
            " [-18 -51 -48]]\n"
          ]
        }
      ],
      "source": [
        "import numpy as np\n",
        "\n",
        "a_ndarray = np.array([[-1, 2, 3], [4, -5, 6], [7, 8, -9]])\n",
        "b_ndarray = np.array([[0, 2, 1], [0, 2, -8], [2, 9, -1]])\n",
        "\n",
        "result_numpy = np.matmul(a_ndarray, b_ndarray)\n",
        "\n",
        "print(\"--- 行列積を理解しよう (NumPy) ---\")\n",
        "print(\"行列 A:\\n\", a_ndarray)\n",
        "print(\"\\行列 B:\\n\", b_ndarray)\n",
        "print(\"\\nResultado (A @ B):\\n\", result_numpy)"
      ]
    },
    {
      "cell_type": "code",
      "source": [
        "def matmul_scratch(a, b):\n",
        "    result = np.zeros((a.shape[0], b.shape[1]))\n",
        "\n",
        "    for i in range(a.shape[0]):\n",
        "        for j in range(b.shape[1]):\n",
        "            for k in range(a.shape[1]):\n",
        "                result[i, j] += a[i, k] * b[k, j]\n",
        "\n",
        "    return result\n",
        "\n",
        "scratch_result = matmul_scratch(a_ndarray, b_ndarray)\n",
        "\n",
        "print(\"--- Producto de Matrices (Scratch) ---\")\n",
        "print(\"Resultado (A @ B) - Scratch:\\n\", scratch_result)\n",
        "\n",
        "is_equal = np.array_equal(result_numpy, scratch_result)\n",
        "print(f\"\\n¿El resultado scratch coincide con el resultado NumPy?: {is_equal}\")"
      ],
      "metadata": {
        "colab": {
          "base_uri": "https://localhost:8080/"
        },
        "id": "cOAUyQ5TT9jX",
        "outputId": "277cee71-4e2d-4d1f-e72e-a0153d7c9e28"
      },
      "execution_count": 2,
      "outputs": [
        {
          "output_type": "stream",
          "name": "stdout",
          "text": [
            "--- Producto de Matrices (Scratch) ---\n",
            "Resultado (A @ B) - Scratch:\n",
            " [[  6.  29. -20.]\n",
            " [ 12.  52.  38.]\n",
            " [-18. -51. -48.]]\n",
            "\n",
            "¿El resultado scratch coincide con el resultado NumPy?: True\n"
          ]
        }
      ]
    },
    {
      "cell_type": "code",
      "source": [
        "#####################################################################################################################"
      ],
      "metadata": {
        "id": "c4CnS7HoZ2IY"
      },
      "execution_count": 7,
      "outputs": []
    },
    {
      "cell_type": "code",
      "source": [
        "d_ndarray = np.array([[-1, 2, 3], [4, -5, 6]]) # Forma (2, 3)\n",
        "e_ndarray = np.array([[-9, 8, 7, 6], [-5, 4, 3, 2]]) # Forma (2, 4)\n",
        "\n",
        "def is_multiplicable(a, b):\n",
        "    if a.shape[1] != b.shape[0]:\n",
        "        print(f\"行列積を計算できません。列数と行数が一致しません。\")\n",
        "        return False\n",
        "    return True\n",
        "\n",
        "print(\"\\n--- Verificación de la Multiplicabilidad ---\")\n",
        "\n",
        "# Verificar si D @ E es posible: (2, 3) @ (2, 4) -> No\n",
        "print(\"Verificando D @ E:\")\n",
        "if is_multiplicable(d_ndarray, e_ndarray):\n",
        "    print(\"Resultado (D @ E):\\n\", np.matmul(d_ndarray, e_ndarray))"
      ],
      "metadata": {
        "colab": {
          "base_uri": "https://localhost:8080/"
        },
        "id": "gG3moQjNUAGt",
        "outputId": "244059a5-3a6c-4c30-c85e-09efe35b2441"
      },
      "execution_count": 8,
      "outputs": [
        {
          "output_type": "stream",
          "name": "stdout",
          "text": [
            "\n",
            "--- Verificación de la Multiplicabilidad ---\n",
            "Verificando D @ E:\n",
            "行列積を計算できません。列数と行数が一致しません。\n"
          ]
        }
      ]
    },
    {
      "cell_type": "code",
      "source": [
        "print(\"\\n--- Producto con Transposición (D.T @ E) ---\")\n",
        "\n",
        "d_transposed = d_ndarray.T # Forma (3, 2)\n",
        "# e_ndarray tiene forma (2, 4)\n",
        "\n",
        "# Verificar si D.T @ E es posible: (3, 2) @ (2, 4) -> Sí\n",
        "print(\"Verificando D.T @ E:\")\n",
        "if is_multiplicable(d_transposed, e_ndarray):\n",
        "    result_transposed = np.matmul(d_transposed, e_ndarray)\n",
        "    print(\"\\nResultado (D.T @ E) - Posible:\\n\", result_transposed)\n",
        "else:\n",
        "     print(\"Error: La operación con D.T tampoco es posible con estas formas.\")"
      ],
      "metadata": {
        "colab": {
          "base_uri": "https://localhost:8080/"
        },
        "id": "fSNE1KH_UCUE",
        "outputId": "53498174-cb4f-4a37-813c-59aee9245f71"
      },
      "execution_count": 4,
      "outputs": [
        {
          "output_type": "stream",
          "name": "stdout",
          "text": [
            "\n",
            "--- Producto con Transposición (D.T @ E) ---\n",
            "Verificando D.T @ E:\n",
            "\n",
            "Resultado (D.T @ E) - Posible:\n",
            " [[-11   8   5   2]\n",
            " [  7  -4  -1   2]\n",
            " [-57  48  39  30]]\n"
          ]
        }
      ]
    },
    {
      "cell_type": "code",
      "source": [],
      "metadata": {
        "id": "yGkkw8I7UGkm"
      },
      "execution_count": null,
      "outputs": []
    }
  ]
}