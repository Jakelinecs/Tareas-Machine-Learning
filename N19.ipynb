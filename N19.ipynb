{
  "nbformat": 4,
  "nbformat_minor": 0,
  "metadata": {
    "colab": {
      "provenance": [],
      "authorship_tag": "ABX9TyNBczcTRP7Xr6abTP2afY/x",
      "include_colab_link": true
    },
    "kernelspec": {
      "name": "python3",
      "display_name": "Python 3"
    },
    "language_info": {
      "name": "python"
    }
  },
  "cells": [
    {
      "cell_type": "markdown",
      "metadata": {
        "id": "view-in-github",
        "colab_type": "text"
      },
      "source": [
        "<a href=\"https://colab.research.google.com/github/Jakelinecs/Tareas-Machine-Learning/blob/main/N19.ipynb\" target=\"_parent\"><img src=\"https://colab.research.google.com/assets/colab-badge.svg\" alt=\"Open In Colab\"/></a>"
      ]
    },
    {
      "cell_type": "code",
      "execution_count": 3,
      "metadata": {
        "id": "ejwHQYOWB7Sa"
      },
      "outputs": [],
      "source": [
        "#P1\n",
        "def gini_impurity(y):\n",
        "\n",
        "    N_t_all = len(y)\n",
        "    if N_t_all == 0:\n",
        "        return 0.0\n",
        "\n",
        "\n",
        "    unique_classes, counts = np.unique(y, return_counts=True)\n",
        "\n",
        "\n",
        "    sum_of_squares = np.sum((counts / N_t_all)**2)\n",
        "    gini = 1.0 - sum_of_squares\n",
        "\n",
        "    return gini"
      ]
    },
    {
      "cell_type": "code",
      "source": [
        "#P2\n",
        "def information_gain(y_parent, y_left, y_right):\n",
        "\n",
        "    N_p_all = len(y_parent)\n",
        "    if N_p_all == 0:\n",
        "        return 0.0\n",
        "\n",
        "    I_p = gini_impurity(y_parent)\n",
        "\n",
        "    N_left_all = len(y_left)\n",
        "    N_right_all = len(y_right)\n",
        "\n",
        "    weight_left = N_left_all / N_p_all\n",
        "    weight_right = N_right_all / N_p_all\n",
        "\n",
        "    I_left = gini_impurity(y_left)\n",
        "    I_right = gini_impurity(y_right)\n",
        "\n",
        "    ig = I_p - (weight_left * I_left) - (weight_right * I_right)\n",
        "\n",
        "    return ig\n"
      ],
      "metadata": {
        "id": "kZqrAPfuCOXb"
      },
      "execution_count": 11,
      "outputs": []
    },
    {
      "cell_type": "code",
      "source": [
        "import numpy as np\n",
        "\n",
        "class ScratchDecesionTreeClassifierDepth1():\n",
        "\n",
        "\n",
        "    def __init__(self, verbose=False):\n",
        "        self.verbose = verbose\n",
        "\n",
        "        self.best_feature_index = None\n",
        "        self.best_threshold = None\n",
        "        self.left_leaf_class = None\n",
        "        self.right_leaf_class = None\n",
        "\n",
        "    def _gini_impurity(self, y):\n",
        "\n",
        "        N_t_all = len(y)\n",
        "        if N_t_all == 0:\n",
        "            return 0.0\n",
        "        unique_classes, counts = np.unique(y, return_counts=True)\n",
        "        sum_of_squares = np.sum((counts / N_t_all)**2)\n",
        "        return 1.0 - sum_of_squares\n",
        "\n",
        "    def _information_gain(self, y_parent, y_left, y_right):\n",
        "\n",
        "        N_p_all = len(y_parent)\n",
        "        if N_p_all == 0:\n",
        "            return 0.0\n",
        "        I_p = self._gini_impurity(y_parent)\n",
        "        N_left_all = len(y_left)\n",
        "        N_right_all = len(y_right)\n",
        "\n",
        "        weight_left = N_left_all / N_p_all\n",
        "        weight_right = N_right_all / N_p_all\n",
        "\n",
        "        I_left = self._gini_impurity(y_left)\n",
        "        I_right = self._gini_impurity(y_right)\n",
        "\n",
        "        return I_p - (weight_left * I_left) - (weight_right * I_right)\n",
        "\n",
        "    def _get_majority_class(self, y):\n",
        "\n",
        "        if len(y) == 0:\n",
        "            return None\n",
        "\n",
        "        unique_classes, counts = np.unique(y, return_counts=True)\n",
        "        return unique_classes[np.argmax(counts)]\n",
        "\n",
        "\n",
        "    def fit(self, X, y):\n",
        "\n",
        "        n_samples, n_features = X.shape\n",
        "        max_ig = -1\n",
        "        best_split = {}\n",
        "\n",
        "\n",
        "        for feature_index in range(n_features):\n",
        "            X_col = X[:, feature_index]\n",
        "\n",
        "\n",
        "            thresholds = np.unique(X_col)\n",
        "\n",
        "            for threshold in thresholds:\n",
        "\n",
        "                left_mask = X_col <= threshold\n",
        "                right_mask = X_col > threshold\n",
        "\n",
        "                y_left = y[left_mask]\n",
        "                y_right = y[right_mask]\n",
        "\n",
        "\n",
        "                current_ig = self._information_gain(y, y_left, y_right)\n",
        "\n",
        "\n",
        "                if current_ig > max_ig:\n",
        "                    max_ig = current_ig\n",
        "\n",
        "                    self.best_feature_index = feature_index\n",
        "                    self.best_threshold = threshold\n",
        "\n",
        "\n",
        "                    self.left_leaf_class = self._get_majority_class(y_left)\n",
        "                    self.right_leaf_class = self._get_majority_class(y_right)\n",
        "\n",
        "        if self.verbose:\n",
        "            print(f\"最良の分割条件:\")\n",
        "            print(f\"  特徴量インデックス: {self.best_feature_index}\")\n",
        "            print(f\"  閾値: <= {self.best_threshold}\")\n",
        "            print(f\"  最大情報利得: {max_ig:.4f}\")\n",
        "            print(f\"  左ノードのクラス: {self.left_leaf_class}\")\n",
        "            print(f\"  右ノードのクラス: {self.right_leaf_class}\")\n",
        "\n",
        "\n",
        "    # P4: 推定\n",
        "    def predict(self, X):\n",
        "\n",
        "        if self.best_feature_index is None:\n",
        "\n",
        "            return np.array([self._get_majority_class(np.unique(self.y_train))] * len(X))\n",
        "\n",
        "\n",
        "        y_pred = np.empty(len(X), dtype=object)\n",
        "\n",
        "\n",
        "        X_col = X[:, self.best_feature_index]\n",
        "\n",
        "\n",
        "        left_mask = X_col <= self.best_threshold\n",
        "        y_pred[left_mask] = self.left_leaf_class\n",
        "\n",
        "        right_mask = X_col > self.best_threshold\n",
        "        y_pred[right_mask] = self.right_leaf_class\n",
        "\n",
        "        try:\n",
        "            return y_pred.astype(int)\n",
        "        except ValueError:\n",
        "            return y_pred"
      ],
      "metadata": {
        "id": "0pboEaZfCOT2"
      },
      "execution_count": 6,
      "outputs": []
    },
    {
      "cell_type": "code",
      "source": [
        "from sklearn.metrics import accuracy_score\n",
        "from sklearn.tree import DecisionTreeClassifier\n",
        "from sklearn.model_selection import train_test_split\n",
        "from sklearn.datasets import make_blobs\n",
        "\n",
        "\n",
        "X, y = make_blobs(n_samples=50, n_features=2, centers=[[-0.5, 0.5], [0.5, -0.5]], cluster_std=[0.8, 0.8], random_state=75)\n",
        "X_train, X_test, y_train, y_test = train_test_split(X, y, test_size=0.3, random_state=42)\n",
        "\n",
        "\n",
        "dtc_scratch = ScratchDecesionTreeClassifierDepth1(verbose=True)\n",
        "dtc_scratch.fit(X_train, y_train)\n",
        "\n",
        "\n",
        "y_pred_scratch = dtc_scratch.predict(X_test)\n",
        "\n",
        "acc_scratch = accuracy_score(y_test, y_pred_scratch)\n",
        "\n",
        "print(\"\\n--- スクラッチ実装による評価 ---\")\n",
        "print(f\"Accuracy (テストデータ): {acc_scratch:.4f}\")\n",
        "\n",
        "\n",
        "dtc_sklearn = DecisionTreeClassifier(max_depth=1, criterion='gini', random_state=42)\n",
        "dtc_sklearn.fit(X_train, y_train)\n",
        "y_pred_sklearn = dtc_sklearn.predict(X_test)\n",
        "acc_sklearn = accuracy_score(y_test, y_pred_sklearn)\n",
        "\n",
        "print(\"\\n--- scikit-learn実装との比較 (max_depth=1) ---\")\n",
        "print(f\"Accuracy (テストデータ): {acc_sklearn:.4f}\")"
      ],
      "metadata": {
        "colab": {
          "base_uri": "https://localhost:8080/"
        },
        "id": "m1BPB9vbCOQW",
        "outputId": "069a2e1e-40cd-40c2-d5df-f80027b170e6"
      },
      "execution_count": 7,
      "outputs": [
        {
          "output_type": "stream",
          "name": "stdout",
          "text": [
            "最良の分割条件:\n",
            "  特徴量インデックス: 0\n",
            "  閾値: <= 0.004083234104529154\n",
            "  最大情報利得: 0.2061\n",
            "  左ノードのクラス: 0\n",
            "  右ノードのクラス: 1\n",
            "\n",
            "--- スクラッチ実装による評価 ---\n",
            "Accuracy (テストデータ): 0.6667\n",
            "\n",
            "--- scikit-learn実装との比較 (max_depth=1) ---\n",
            "Accuracy (テストデータ): 0.6667\n"
          ]
        }
      ]
    },
    {
      "cell_type": "code",
      "source": [
        "import matplotlib.pyplot as plt\n",
        "\n",
        "def plot_decision_boundary_dt(model, X, y, title):\n",
        "\n",
        "    x_min, x_max = X[:, 0].min() - 0.1, X[:, 0].max() + 0.1\n",
        "    y_min, y_max = X[:, 1].min() - 0.1, X[:, 1].max() + 0.1\n",
        "\n",
        "    xx, yy = np.meshgrid(np.arange(x_min, x_max, 0.01),\n",
        "                         np.arange(y_min, y_max, 0.01))\n",
        "\n",
        "    X_grid = np.c_[xx.ravel(), yy.ravel()]\n",
        "    Z = model.predict(X_grid)\n",
        "    Z = Z.reshape(xx.shape)\n",
        "\n",
        "    plt.figure(figsize=(10, 6))\n",
        "    cmap_boundary = ListedColormap(['#FFAAAA', '#AAAAFF'])\n",
        "    plt.contourf(xx, yy, Z, alpha=0.3, cmap=cmap_boundary)\n",
        "\n",
        "    cmap_points = ListedColormap(['red', 'blue'])\n",
        "    plt.scatter(X[:, 0], X[:, 1], c=y, edgecolors='k', cmap=cmap_points, s=50)\n",
        "\n",
        "    plt.title(title)\n",
        "    plt.xlabel('Feature 1')\n",
        "    plt.ylabel('Feature 2')\n",
        "    plt.show()\n",
        "\n",
        "from matplotlib.colors import ListedColormap\n",
        "\n",
        "print(\"\\n--- 決定領域の可視化 (問題6) ---\")\n",
        "\n",
        "plot_decision_boundary_dt(dtc_scratch, X, y,\n",
        "                           \" (1, Scratch)\")"
      ],
      "metadata": {
        "colab": {
          "base_uri": "https://localhost:8080/",
          "height": 601
        },
        "id": "TzO2SweUCONk",
        "outputId": "215c82b0-f905-497b-9d2e-69f3cc15a53b"
      },
      "execution_count": 16,
      "outputs": [
        {
          "output_type": "stream",
          "name": "stdout",
          "text": [
            "\n",
            "--- 決定領域の可視化 (問題6) ---\n"
          ]
        },
        {
          "output_type": "display_data",
          "data": {
            "text/plain": [
              "<Figure size 1000x600 with 1 Axes>"
            ],
            "image/png": "[encoded data removed]"
          },
          "metadata": {}
        }
      ]
    },
    {
      "cell_type": "code",
      "source": [],
      "metadata": {
        "id": "2Rh_heS0COKq"
      },
      "execution_count": null,
      "outputs": []
    },
    {
      "cell_type": "code",
      "source": [],
      "metadata": {
        "id": "F1LykbETCOHr"
      },
      "execution_count": null,
      "outputs": []
    },
    {
      "cell_type": "code",
      "source": [],
      "metadata": {
        "id": "NXMHLNXICOE2"
      },
      "execution_count": null,
      "outputs": []
    },
    {
      "cell_type": "code",
      "source": [],
      "metadata": {
        "id": "Aup5DmEVCOBf"
      },
      "execution_count": null,
      "outputs": []
    },
    {
      "cell_type": "code",
      "source": [],
      "metadata": {
        "id": "GtPqFQTdCN9x"
      },
      "execution_count": null,
      "outputs": []
    }
  ]
}