{
  "nbformat": 4,
  "nbformat_minor": 0,
  "metadata": {
    "colab": {
      "provenance": [],
      "authorship_tag": "ABX9TyO4prQmp+FFLUmfVJUToZdT",
      "include_colab_link": true
    },
    "kernelspec": {
      "name": "python3",
      "display_name": "Python 3"
    },
    "language_info": {
      "name": "python"
    }
  },
  "cells": [
    {
      "cell_type": "markdown",
      "metadata": {
        "id": "view-in-github",
        "colab_type": "text"
      },
      "source": [
        "<a href=\"https://colab.research.google.com/github/Jakelinecs/Tareas-Machine-Learning/blob/main/N1.ipynb\" target=\"_parent\"><img src=\"https://colab.research.google.com/assets/colab-badge.svg\" alt=\"Open In Colab\"/></a>"
      ]
    },
    {
      "cell_type": "code",
      "execution_count": null,
      "metadata": {
        "id": "hi6vt62lUc6R"
      },
      "outputs": [],
      "source": [
        "  #         Cálculo del espesor mediante dos métodos"
      ]
    },
    {
      "cell_type": "code",
      "source": [
        "#####################################################################################################################"
      ],
      "metadata": {
        "id": "FziDPeDmZfWQ"
      },
      "execution_count": 20,
      "outputs": []
    },
    {
      "cell_type": "code",
      "source": [
        "# Medición de tiempo (excluyendo la definición de variables)\n",
        "FOLDS = 43\n",
        "THICKNESS = 0.00008\n",
        "\n",
        "folded_thickness_exp = THICKNESS * (2 ** FOLDS)\n",
        "\n",
        "folded_thickness_km = folded_thickness_exp / 1000\n",
        "print(\"厚さ： {:.2f}キロメートル\".format(folded_thickness_km))"
      ],
      "metadata": {
        "colab": {
          "base_uri": "https://localhost:8080/"
        },
        "id": "kq-fJJNaYB3d",
        "outputId": "bee6e869-3186-41e4-c52e-a4240103d7b0"
      },
      "execution_count": 13,
      "outputs": [
        {
          "output_type": "stream",
          "name": "stdout",
          "text": [
            "厚さ： 703687.44キロメートル\n"
          ]
        }
      ]
    },
    {
      "cell_type": "code",
      "source": [
        "# Verificación\n",
        "DISTANCE_TO_MOON_KM = 384400\n",
        "if folded_thickness_km >= DISTANCE_TO_MOON_KM:\n",
        "    print(\"¡El papel doblado SÍ alcanza la Luna!\")\n",
        "else:\n",
        "    print(\"El papel doblado NO alcanza la Luna.\")"
      ],
      "metadata": {
        "colab": {
          "base_uri": "https://localhost:8080/"
        },
        "id": "G039d1qfYBq5",
        "outputId": "ba3a70a8-c826-481e-cfef-fa4a487a9e29"
      },
      "execution_count": 14,
      "outputs": [
        {
          "output_type": "stream",
          "name": "stdout",
          "text": [
            "¡El papel doblado SÍ alcanza la Luna! 🚀\n"
          ]
        }
      ]
    },
    {
      "cell_type": "code",
      "source": [
        "# Medición de tiempo (forDeclaración de uso)\n",
        "FOLDS = 43\n",
        "THICKNESS = 0.00008\n",
        "current_thickness_for = THICKNESS\n",
        "\n",
        "\n",
        "for i in range(FOLDS):\n",
        "    current_thickness_for *= 2 # Equivalente a current_thickness_for = current_thickness_for * 2\n",
        "\n",
        "\n",
        "# Conversión y visualización\n",
        "current_thickness_km_for = current_thickness_for / 1000\n",
        "\n",
        "print(\"厚さ： {:.2f}キロメートル\".format(current_thickness_km_for))"
      ],
      "metadata": {
        "colab": {
          "base_uri": "https://localhost:8080/"
        },
        "id": "QbgnMnwnbXnN",
        "outputId": "d6bb0a81-608b-4f56-ea02-8080b0edd524"
      },
      "execution_count": 15,
      "outputs": [
        {
          "output_type": "stream",
          "name": "stdout",
          "text": [
            "厚さ： 703687.44キロメートル\n"
          ]
        }
      ]
    },
    {
      "cell_type": "code",
      "source": [
        "# Verificación\n",
        "DISTANCE_TO_MOON_KM = 384400\n",
        "if folded_thickness_km >= DISTANCE_TO_MOON_KM:\n",
        "    print(\"¡El papel doblado SÍ alcanza la Luna!\")\n",
        "else:\n",
        "    print(\"El papel doblado NO alcanza la Luna.\")"
      ],
      "metadata": {
        "colab": {
          "base_uri": "https://localhost:8080/"
        },
        "id": "gseC0mI37WBL",
        "outputId": "920854ac-5d48-43a7-d537-4fd4a0433313"
      },
      "execution_count": 16,
      "outputs": [
        {
          "output_type": "stream",
          "name": "stdout",
          "text": [
            "¡El papel doblado SÍ alcanza la Luna! 🚀\n"
          ]
        }
      ]
    },
    {
      "cell_type": "code",
      "source": [
        "#####################################################################################################################"
      ],
      "metadata": {
        "id": "2WViYAhqZjuM"
      },
      "execution_count": 21,
      "outputs": []
    },
    {
      "cell_type": "code",
      "source": [
        "  #         Cálculo del tiempo"
      ],
      "metadata": {
        "id": "LaDAuXHQ6tSb"
      },
      "execution_count": null,
      "outputs": []
    },
    {
      "cell_type": "code",
      "source": [
        "import time\n",
        "start = time.time()\n",
        "#####\n",
        "# 比較したいコードをここに記述\n",
        "folded_thickness_exp = THICKNESS * (2 ** FOLDS)\n",
        "\n",
        "folded_thickness_km = folded_thickness_exp / 1000\n",
        "#####\n",
        "elapsed_time = time.time() - start\n",
        "print(\"time : {}[s]\".format(elapsed_time))"
      ],
      "metadata": {
        "colab": {
          "base_uri": "https://localhost:8080/"
        },
        "id": "d0WbLN0R6tKT",
        "outputId": "aa8a06d3-3468-4fa6-a527-b067e9dc6605"
      },
      "execution_count": 19,
      "outputs": [
        {
          "output_type": "stream",
          "name": "stdout",
          "text": [
            "time : 0.00010800361633300781[s]\n"
          ]
        }
      ]
    },
    {
      "cell_type": "code",
      "source": [
        "import time\n",
        "start = time.time()\n",
        "#####\n",
        "# 比較したいコードをここに記述\n",
        "for i in range(FOLDS):\n",
        "    current_thickness_for *= 2 # Equivalente a current_thickness_for = current_thickness_for * 2\n",
        "#####\n",
        "elapsed_time = time.time() - start\n",
        "print(\"time : {}[s]\".format(elapsed_time))"
      ],
      "metadata": {
        "colab": {
          "base_uri": "https://localhost:8080/"
        },
        "id": "EYZqnVfZ7-BA",
        "outputId": "73e11422-ac05-40f1-c8fb-2b7957bc6397"
      },
      "execution_count": 20,
      "outputs": [
        {
          "output_type": "stream",
          "name": "stdout",
          "text": [
            "time : 0.00010061264038085938[s]\n"
          ]
        }
      ]
    },
    {
      "cell_type": "code",
      "source": [
        "#####################################################################################################################"
      ],
      "metadata": {
        "id": "-553H1jZ8024"
      },
      "execution_count": null,
      "outputs": []
    },
    {
      "cell_type": "code",
      "source": [
        "# Lista para almacenar el grosor en cada paso\n",
        "thickness_list = []\n",
        "current_thickness = THICKNESS # Grosor en el pliegue 0\n",
        "\n",
        "# Agregar el grosor inicial (pliegue 0)\n",
        "thickness_list.append(current_thickness)\n",
        "\n",
        "# Bucle para calcular y agregar el grosor después de cada pliegue (1 a 43)\n",
        "for i in range(FOLDS): # El bucle se ejecuta 43 veces\n",
        "    current_thickness *= 2\n",
        "    thickness_list.append(current_thickness)\n",
        "\n",
        "print(f\"\\n--- 3. Preparación de Datos para Gráfico ---\")\n",
        "print(f\"Valores almacenados: {len(thickness_list)} (0 a {FOLDS} pliegues)\")"
      ],
      "metadata": {
        "colab": {
          "base_uri": "https://localhost:8080/"
        },
        "id": "BVejyrqP9R_g",
        "outputId": "fd49dca7-c9e5-4996-ac68-09bf34ee4fc2"
      },
      "execution_count": 23,
      "outputs": [
        {
          "output_type": "stream",
          "name": "stdout",
          "text": [
            "\n",
            "--- 3. Preparación de Datos para Gráfico ---\n",
            "Valores almacenados: 44 (0 a 43 pliegues)\n"
          ]
        }
      ]
    },
    {
      "cell_type": "code",
      "source": [
        "import matplotlib.pyplot as plt\n",
        "%matplotlib inline\n",
        "\n",
        "# グラフを表示する。タイトルと軸ラベル名付き。\n",
        "plt.title(\"thickness of folded paper\")\n",
        "plt.xlabel(\"number of folds\")\n",
        "plt.ylabel(\"thickness [m]\")\n",
        "plt.tick_params(labelsize=20)  # 軸の値調整\n",
        "plt.plot(\"リスト名\")  # 「リスト名」は使用している変数に置き換える\n",
        "plt.plot(thickness_list, 'r-o', linewidth=2, markersize=4, alpha=0.7)\n",
        "\n",
        "# Usar escala logarítmica en el eje Y para visualizar los primeros pliegues\n",
        "plt.yscale('log')\n",
        "\n",
        "plt.show()"
      ],
      "metadata": {
        "id": "kt5uoP72Uz_2",
        "outputId": "90646689-30ae-44c1-d34d-c3afd72ebbac",
        "colab": {
          "base_uri": "https://localhost:8080/",
          "height": 486
        }
      },
      "execution_count": 25,
      "outputs": [
        {
          "output_type": "display_data",
          "data": {
            "text/plain": [
              "<Figure size 640x480 with 1 Axes>"
            ],
            "image/png": "[encoded data removed]"
          },
          "metadata": {}
        }
      ]
    },
    {
      "cell_type": "code",
      "source": [],
      "metadata": {
        "id": "3to9zAuRU8vu"
      },
      "execution_count": null,
      "outputs": []
    }
  ]
}