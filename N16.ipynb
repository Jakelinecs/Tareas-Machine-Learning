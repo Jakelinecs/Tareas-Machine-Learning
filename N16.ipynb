{
  "nbformat": 4,
  "nbformat_minor": 0,
  "metadata": {
    "colab": {
      "provenance": [],
      "authorship_tag": "ABX9TyOT2piwV9VrrxJMAHm/+zgW",
      "include_colab_link": true
    },
    "kernelspec": {
      "name": "python3",
      "display_name": "Python 3"
    },
    "language_info": {
      "name": "python"
    }
  },
  "cells": [
    {
      "cell_type": "markdown",
      "metadata": {
        "id": "view-in-github",
        "colab_type": "text"
      },
      "source": [
        "<a href=\"https://colab.research.google.com/github/Jakelinecs/Tareas-Machine-Learning/blob/main/N16.ipynb\" target=\"_parent\"><img src=\"https://colab.research.google.com/assets/colab-badge.svg\" alt=\"Open In Colab\"/></a>"
      ]
    },
    {
      "cell_type": "code",
      "execution_count": 24,
      "metadata": {
        "id": "v74LsktqxmP_"
      },
      "outputs": [],
      "source": [
        "import numpy as np\n",
        "\n",
        "class ScratchLinearRegression():\n",
        "\n",
        "\n",
        "    def __init__(self, num_iter=1000, lr=0.01, no_bias=False, verbose=False):\n",
        "        self.iter = num_iter\n",
        "        self.lr = lr\n",
        "        self.no_bias = no_bias\n",
        "        self.verbose = verbose\n",
        "        self.loss = np.zeros(self.iter)\n",
        "        self.val_loss = np.zeros(self.iter)\n",
        "        self.coef_ = None\n",
        "\n",
        "    def _linear_hypothesis(self, X):\n",
        "\n",
        "        return X @ self.coef_\n",
        "\n",
        "    def _gradient_descent(self, X, error):\n",
        "        m = len(X)\n",
        "\n",
        "        gradient = (1 / m) * (X.T @ error)\n",
        "\n",
        "        self.coef_ -= self.lr * gradient\n",
        "\n",
        "    def _loss_function(self, y_pred, y):\n",
        "\n",
        "        m = len(y)\n",
        "        error = y_pred - y\n",
        "        return (1 / (2 * m)) * np.sum(error**2)\n",
        "\n",
        "    def fit(self, X, y, X_val=None, y_val=None):\n",
        "\n",
        "\n",
        "        if not self.no_bias:\n",
        "            X = np.hstack([np.ones((X.shape[0], 1)), X])\n",
        "            if X_val is not None:\n",
        "                X_val = np.hstack([np.ones((X_val.shape[0], 1)), X_val])\n",
        "\n",
        "        n_features_with_bias = X.shape[1]\n",
        "\n",
        "        self.coef_ = np.random.rand(n_features_with_bias)\n",
        "\n",
        "        for i in range(self.iter):\n",
        "            y_pred = self._linear_hypothesis(X)\n",
        "\n",
        "            error = y_pred - y\n",
        "\n",
        "            self.loss[i] = self._loss_function(y_pred, y)\n",
        "\n",
        "            if X_val is not None and y_val is not None:\n",
        "                y_val_pred = self._linear_hypothesis(X_val)\n",
        "                self.val_loss[i] = self._loss_function(y_val_pred, y_val)\n",
        "\n",
        "            self._gradient_descent(X, error)\n",
        "\n",
        "            if self.verbose and (i % 100 == 0):\n",
        "                print(f\"Iteration {i}: Train Loss = {self.loss[i]:.4f}\")\n",
        "\n",
        "        if self.verbose:\n",
        "            print(f\"Final Train Loss: {self.loss[-1]:.4f}\")\n",
        "            if X_val is not None:\n",
        "                 print(f\"Final Val Loss: {self.val_loss[-1]:.4f}\")\n",
        "\n",
        "    def predict(self, X):\n",
        "\n",
        "        if not self.no_bias and X.shape[1] != len(self.coef_):\n",
        "            X = np.hstack([np.ones((X.shape[0], 1)), X])\n",
        "\n",
        "        return self._linear_hypothesis(X)"
      ]
    },
    {
      "cell_type": "code",
      "source": [
        "def MSE(y_pred, y):\n",
        "\n",
        "    m = len(y)\n",
        "    mse = (1 / m) * np.sum((y_pred - y)**2)\n",
        "    return mse"
      ],
      "metadata": {
        "id": "y0cjZmA6wGeq"
      },
      "execution_count": 26,
      "outputs": []
    },
    {
      "cell_type": "code",
      "source": [
        "import pandas as pd\n",
        "from sklearn.model_selection import train_test_split\n",
        "from sklearn.preprocessing import StandardScaler\n",
        "\n",
        "try:\n",
        "    df = pd.read_csv('train.csv')\n",
        "\n",
        "    cols_to_drop = df.columns[df.isnull().sum() >= 5]\n",
        "    df_cleaned = df.drop(columns=cols_to_drop).dropna().copy()\n",
        "\n",
        "    df_cleaned['SalePrice_log'] = np.log(df_cleaned['SalePrice'])\n",
        "\n",
        "    X_cols = ['GrLivArea', 'YearBuilt']\n",
        "    X = df_cleaned[X_cols].values\n",
        "    y = df_cleaned['SalePrice_log'].values\n",
        "\n",
        "    X_train, X_test, y_train, y_test = train_test_split(X, y, test_size=0.25, random_state=42)\n",
        "\n",
        "    scaler = StandardScaler()\n",
        "    X_train_scaled = scaler.fit_transform(X_train)\n",
        "    X_test_scaled = scaler.transform(X_test)\n",
        "\n",
        "    print(\"データ準備完了。\")\n",
        "\n",
        "except FileNotFoundError:\n",
        "    print(\"❌ 'train.csv'\")\n",
        "    X_train_scaled, X_test_scaled, y_train, y_test = None, None, None, None"
      ],
      "metadata": {
        "colab": {
          "base_uri": "https://localhost:8080/"
        },
        "id": "tTMa2C-kwVaz",
        "outputId": "a50f480f-99ca-4896-f887-6993355b6657"
      },
      "execution_count": 28,
      "outputs": [
        {
          "output_type": "stream",
          "name": "stdout",
          "text": [
            "データ準備完了。\n"
          ]
        }
      ]
    },
    {
      "cell_type": "code",
      "source": [
        "if X_train_scaled is not None:\n",
        "    slr = ScratchLinearRegression(num_iter=10000, lr=0.01, no_bias=False, verbose=True)\n",
        "\n",
        "    slr.fit(X_train_scaled, y_train)\n",
        "\n",
        "    y_pred_slr = slr.predict(X_test_scaled)\n",
        "\n",
        "    mse_slr = MSE(y_pred_slr, y_test)\n",
        "    print(\"\\n--- スクラッチ実装による評価 ---\")\n",
        "    print(f\"MSE (Scratch): {mse_slr:.4f}\")\n",
        "\n",
        "    from sklearn.linear_model import LinearRegression\n",
        "    sk_lr = LinearRegression()\n",
        "    sk_lr.fit(X_train_scaled, y_train)\n",
        "    y_pred_sk = sk_lr.predict(X_test_scaled)\n",
        "    mse_sk = MSE(y_pred_sk, y_test)\n",
        "\n",
        "    print(\"\\n--- scikit-learn実装との比較 ---\")\n",
        "    print(f\"MSE (scikit-learn): {mse_sk:.4f}\")\n",
        "    print(f\"Scratch 実装の $\\\\theta$ (重み): {slr.coef_}\")\n",
        "    print(f\"scikit-learn の $\\\\theta$ (重み): {np.hstack([sk_lr.intercept_, sk_lr.coef_])}\")"
      ],
      "metadata": {
        "colab": {
          "base_uri": "https://localhost:8080/"
        },
        "id": "YNTHpqCzwVXF",
        "outputId": "875f186e-994c-4f74-ee17-d906df83c8e1"
      },
      "execution_count": 29,
      "outputs": [
        {
          "output_type": "stream",
          "name": "stdout",
          "text": [
            "Iteration 0: Train Loss = 72.2591\n",
            "Iteration 100: Train Loss = 9.6958\n",
            "Iteration 200: Train Loss = 1.3198\n",
            "Iteration 300: Train Loss = 0.1978\n",
            "Iteration 400: Train Loss = 0.0474\n",
            "Iteration 500: Train Loss = 0.0272\n",
            "Iteration 600: Train Loss = 0.0245\n",
            "Iteration 700: Train Loss = 0.0242\n",
            "Iteration 800: Train Loss = 0.0241\n",
            "Iteration 900: Train Loss = 0.0241\n",
            "Iteration 1000: Train Loss = 0.0241\n",
            "Iteration 1100: Train Loss = 0.0241\n",
            "Iteration 1200: Train Loss = 0.0241\n",
            "Iteration 1300: Train Loss = 0.0241\n",
            "Iteration 1400: Train Loss = 0.0241\n",
            "Iteration 1500: Train Loss = 0.0241\n",
            "Iteration 1600: Train Loss = 0.0241\n",
            "Iteration 1700: Train Loss = 0.0241\n",
            "Iteration 1800: Train Loss = 0.0241\n",
            "Iteration 1900: Train Loss = 0.0241\n",
            "Iteration 2000: Train Loss = 0.0241\n",
            "Iteration 2100: Train Loss = 0.0241\n",
            "Iteration 2200: Train Loss = 0.0241\n",
            "Iteration 2300: Train Loss = 0.0241\n",
            "Iteration 2400: Train Loss = 0.0241\n",
            "Iteration 2500: Train Loss = 0.0241\n",
            "Iteration 2600: Train Loss = 0.0241\n",
            "Iteration 2700: Train Loss = 0.0241\n",
            "Iteration 2800: Train Loss = 0.0241\n",
            "Iteration 2900: Train Loss = 0.0241\n",
            "Iteration 3000: Train Loss = 0.0241\n",
            "Iteration 3100: Train Loss = 0.0241\n",
            "Iteration 3200: Train Loss = 0.0241\n",
            "Iteration 3300: Train Loss = 0.0241\n",
            "Iteration 3400: Train Loss = 0.0241\n",
            "Iteration 3500: Train Loss = 0.0241\n",
            "Iteration 3600: Train Loss = 0.0241\n",
            "Iteration 3700: Train Loss = 0.0241\n",
            "Iteration 3800: Train Loss = 0.0241\n",
            "Iteration 3900: Train Loss = 0.0241\n",
            "Iteration 4000: Train Loss = 0.0241\n",
            "Iteration 4100: Train Loss = 0.0241\n",
            "Iteration 4200: Train Loss = 0.0241\n",
            "Iteration 4300: Train Loss = 0.0241\n",
            "Iteration 4400: Train Loss = 0.0241\n",
            "Iteration 4500: Train Loss = 0.0241\n",
            "Iteration 4600: Train Loss = 0.0241\n",
            "Iteration 4700: Train Loss = 0.0241\n",
            "Iteration 4800: Train Loss = 0.0241\n",
            "Iteration 4900: Train Loss = 0.0241\n",
            "Iteration 5000: Train Loss = 0.0241\n",
            "Iteration 5100: Train Loss = 0.0241\n",
            "Iteration 5200: Train Loss = 0.0241\n",
            "Iteration 5300: Train Loss = 0.0241\n",
            "Iteration 5400: Train Loss = 0.0241\n",
            "Iteration 5500: Train Loss = 0.0241\n",
            "Iteration 5600: Train Loss = 0.0241\n",
            "Iteration 5700: Train Loss = 0.0241\n",
            "Iteration 5800: Train Loss = 0.0241\n",
            "Iteration 5900: Train Loss = 0.0241\n",
            "Iteration 6000: Train Loss = 0.0241\n",
            "Iteration 6100: Train Loss = 0.0241\n",
            "Iteration 6200: Train Loss = 0.0241\n",
            "Iteration 6300: Train Loss = 0.0241\n",
            "Iteration 6400: Train Loss = 0.0241\n",
            "Iteration 6500: Train Loss = 0.0241\n",
            "Iteration 6600: Train Loss = 0.0241\n",
            "Iteration 6700: Train Loss = 0.0241\n",
            "Iteration 6800: Train Loss = 0.0241\n",
            "Iteration 6900: Train Loss = 0.0241\n",
            "Iteration 7000: Train Loss = 0.0241\n",
            "Iteration 7100: Train Loss = 0.0241\n",
            "Iteration 7200: Train Loss = 0.0241\n",
            "Iteration 7300: Train Loss = 0.0241\n",
            "Iteration 7400: Train Loss = 0.0241\n",
            "Iteration 7500: Train Loss = 0.0241\n",
            "Iteration 7600: Train Loss = 0.0241\n",
            "Iteration 7700: Train Loss = 0.0241\n",
            "Iteration 7800: Train Loss = 0.0241\n",
            "Iteration 7900: Train Loss = 0.0241\n",
            "Iteration 8000: Train Loss = 0.0241\n",
            "Iteration 8100: Train Loss = 0.0241\n",
            "Iteration 8200: Train Loss = 0.0241\n",
            "Iteration 8300: Train Loss = 0.0241\n",
            "Iteration 8400: Train Loss = 0.0241\n",
            "Iteration 8500: Train Loss = 0.0241\n",
            "Iteration 8600: Train Loss = 0.0241\n",
            "Iteration 8700: Train Loss = 0.0241\n",
            "Iteration 8800: Train Loss = 0.0241\n",
            "Iteration 8900: Train Loss = 0.0241\n",
            "Iteration 9000: Train Loss = 0.0241\n",
            "Iteration 9100: Train Loss = 0.0241\n",
            "Iteration 9200: Train Loss = 0.0241\n",
            "Iteration 9300: Train Loss = 0.0241\n",
            "Iteration 9400: Train Loss = 0.0241\n",
            "Iteration 9500: Train Loss = 0.0241\n",
            "Iteration 9600: Train Loss = 0.0241\n",
            "Iteration 9700: Train Loss = 0.0241\n",
            "Iteration 9800: Train Loss = 0.0241\n",
            "Iteration 9900: Train Loss = 0.0241\n",
            "Final Train Loss: 0.0241\n",
            "\n",
            "--- スクラッチ実装による評価 ---\n",
            "MSE (Scratch): 0.0474\n",
            "\n",
            "--- scikit-learn実装との比較 ---\n",
            "MSE (scikit-learn): 0.0474\n",
            "Scratch 実装の $\\theta$ (重み): [12.0222818   0.23452676  0.18189978]\n",
            "scikit-learn の $\\theta$ (重み): [12.0222818   0.23452676  0.18189978]\n"
          ]
        }
      ]
    },
    {
      "cell_type": "code",
      "source": [
        "import matplotlib.pyplot as plt # <--- ¡Esta línea es la solución!\n",
        "import numpy as np\n",
        "# import pandas as pd\n",
        "# ... otras librerías\n",
        "\n",
        "# [Definición de la función de la curva de aprendizaje]\n",
        "def plot_learning_curve(loss, val_loss=None, title='Curva de Aprendizaje'):\n",
        "    plt.figure(figsize=(10, 6))\n",
        "    plt.plot(loss, label='Pérdida de Entrenamiento', color='blue')\n",
        "\n",
        "    if val_loss is not None and np.sum(val_loss) != 0:\n",
        "        plt.plot(val_loss, label='Pérdida de Validación', color='red')\n",
        "\n",
        "    plt.title(title)\n",
        "    plt.xlabel('Iteración')\n",
        "    plt.ylabel('Pérdida ($J(\\\\theta)$)')\n",
        "    plt.legend()\n",
        "    plt.grid(True)\n",
        "    plt.show()\n",
        "\n",
        "# [Llamada a la función]\n",
        "if X_train_scaled is not None:\n",
        "    print(\"\\n--- Curva de Aprendizaje (Problema 7) ---\")\n",
        "    # Asumiendo que slr y X_train_scaled están definidos\n",
        "    plot_learning_curve(slr.loss, slr.val_loss)"
      ],
      "metadata": {
        "colab": {
          "base_uri": "https://localhost:8080/",
          "height": 532
        },
        "id": "r6T-GDyKwVUU",
        "outputId": "74ead4d9-7d08-4499-fdf3-3e3457ffc394"
      },
      "execution_count": 36,
      "outputs": [
        {
          "output_type": "stream",
          "name": "stdout",
          "text": [
            "\n",
            "--- Curva de Aprendizaje (Problema 7) ---\n"
          ]
        },
        {
          "output_type": "display_data",
          "data": {
            "text/plain": [
              "<Figure size 1000x600 with 1 Axes>"
            ],
            "image/png": "[encoded data removed]"
          },
          "metadata": {}
        }
      ]
    },
    {
      "cell_type": "code",
      "source": [
        "if X_train_scaled is not None:\n",
        "    # 1. Entrenamiento sin Sesgo (no_bias=True)\n",
        "    slr_no_bias = ScratchLinearRegression(num_iter=10000, lr=0.01, no_bias=True, verbose=False)\n",
        "    slr_no_bias.fit(X_train_scaled, y_train)\n",
        "    y_pred_no_bias = slr_no_bias.predict(X_test_scaled)\n",
        "    mse_no_bias = MSE(y_pred_no_bias, y_test)\n",
        "\n",
        "    print(\"\\n--- Comparación del Término de Sesgo (Problema 8) ---\")\n",
        "    print(f\"MSE (Modelo Estándar con Sesgo): {mse_slr:.4f}\")\n",
        "    print(f\"MSE (Modelo SIN Sesgo): {mse_no_bias:.4f}\")"
      ],
      "metadata": {
        "colab": {
          "base_uri": "https://localhost:8080/"
        },
        "id": "JoLGoucYwVKU",
        "outputId": "3873c023-6ab9-4f38-8fd7-85fa97eb02bc"
      },
      "execution_count": 33,
      "outputs": [
        {
          "output_type": "stream",
          "name": "stdout",
          "text": [
            "\n",
            "--- Comparación del Término de Sesgo (Problema 8) ---\n",
            "MSE (Modelo Estándar con Sesgo): 0.0474\n",
            "MSE (Modelo SIN Sesgo): 144.7071\n"
          ]
        }
      ]
    },
    {
      "cell_type": "code",
      "source": [
        "if X_train_scaled is not None:\n",
        "    # Aumentar la dimensionalidad: Añadir GrLivArea^2\n",
        "    X_train_multi = np.hstack([X_train_scaled, (X_train_scaled[:, 0]**2).reshape(-1, 1)])\n",
        "    X_test_multi = np.hstack([X_test_scaled, (X_test_scaled[:, 0]**2).reshape(-1, 1)])\n",
        "\n",
        "    # 2. Entrenamiento con la feature cuadrática\n",
        "    slr_multi = ScratchLinearRegression(num_iter=10000, lr=0.01, no_bias=False, verbose=False)\n",
        "    slr_multi.fit(X_train_multi, y_train)\n",
        "    y_pred_multi = slr_multi.predict(X_test_multi)\n",
        "    mse_multi = MSE(y_pred_multi, y_test)\n",
        "\n",
        "    print(\"\\n--- Comparación de Dimensionalidad (Problema 9) ---\")\n",
        "    print(f\"MSE (Lineal, 2 features): {mse_slr:.4f}\")\n",
        "    print(f\"MSE (Polinomial, 3 features): {mse_multi:.4f}\")"
      ],
      "metadata": {
        "colab": {
          "base_uri": "https://localhost:8080/"
        },
        "id": "RMszgdW2wZDv",
        "outputId": "8a7ad369-e876-44e3-a805-4337810ec41f"
      },
      "execution_count": 34,
      "outputs": [
        {
          "output_type": "stream",
          "name": "stdout",
          "text": [
            "\n",
            "--- Comparación de Dimensionalidad (Problema 9) ---\n",
            "MSE (Lineal, 2 features): 0.0474\n",
            "MSE (Polinomial, 3 features): 0.0470\n"
          ]
        }
      ]
    },
    {
      "cell_type": "code",
      "source": [],
      "metadata": {
        "id": "Nqly-DCywY_s"
      },
      "execution_count": null,
      "outputs": []
    }
  ]
}